{
 "cells": [
  {
   "cell_type": "code",
   "execution_count": 16,
   "id": "0d7e3813-40cb-4f96-b505-16699fd6b623",
   "metadata": {},
   "outputs": [],
   "source": [
    "import subprocess\n",
    "import numpy as np"
   ]
  },
  {
   "cell_type": "code",
   "execution_count": 47,
   "id": "a6322640-8197-4985-83cb-db0f6328058d",
   "metadata": {},
   "outputs": [],
   "source": [
    "#Fetch containers\n",
    "def fetchContainers():\n",
    "    password=input('please input your unix root password:')\n",
    "    cmd_containers=f'echo {password}|sudo -S ls -lrt /var/lib/docker/containers'\n",
    "    cmd_docker_log='docker logs '\n",
    "    result=np.array(subprocess.getoutput(cmd_containers).split('\\n'))[1:]\n",
    "    containers=[line.split(' ')[8] for line in result]\n",
    "    return containers\n",
    "    \n",
    "#print(containers)\n",
    "\n",
    "\n"
   ]
  },
  {
   "cell_type": "code",
   "execution_count": 48,
   "id": "c665b843-eea4-4f2f-9873-a8bcf2bb5b33",
   "metadata": {},
   "outputs": [],
   "source": [
    "def view_logs():\n",
    "    containers=fetchContainers()\n",
    "    total=len(containers)\n",
    "    i=0\n",
    "    while i<total-1:\n",
    "        container=containers[i]\n",
    "        print(subprocess.getoutput(f'docker logs {container}'))\n",
    "        user_input = input('please press u to previous or d for next log or x to quit:')\n",
    "        i={'u': (i-1), 'd': (i+1) }.get(user_input, total*10) \n",
    "        if i<0 :\n",
    "            i=total-1\n",
    "        if i==total:\n",
    "            i=0\n",
    "    print('Awesome!')\n",
    "            "
   ]
  },
  {
   "cell_type": "code",
   "execution_count": 50,
   "id": "649be48d-aef7-45e5-ad2f-707f1fb8843e",
   "metadata": {},
   "outputs": [],
   "source": [
    "view_logs()"
   ]
  },
  {
   "cell_type": "code",
   "execution_count": null,
   "id": "4aceeba7-f654-4a45-8f72-c966611fba75",
   "metadata": {},
   "outputs": [],
   "source": []
  },
  {
   "cell_type": "code",
   "execution_count": null,
   "id": "c4dd8c75-98f9-4bde-877b-6240cd5b2ea4",
   "metadata": {},
   "outputs": [],
   "source": []
  }
 ],
 "metadata": {
  "kernelspec": {
   "display_name": "Python 3 (ipykernel)",
   "language": "python",
   "name": "python3"
  },
  "language_info": {
   "codemirror_mode": {
    "name": "ipython",
    "version": 3
   },
   "file_extension": ".py",
   "mimetype": "text/x-python",
   "name": "python",
   "nbconvert_exporter": "python",
   "pygments_lexer": "ipython3",
   "version": "3.8.10"
  }
 },
 "nbformat": 4,
 "nbformat_minor": 5
}
